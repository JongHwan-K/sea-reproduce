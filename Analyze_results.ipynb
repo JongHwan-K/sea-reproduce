{
 "cells": [
  {
   "cell_type": "code",
   "execution_count": 1,
   "id": "e33635dc",
   "metadata": {},
   "outputs": [
    {
     "name": "stderr",
     "output_type": "stream",
     "text": [
      "/opt/anaconda3/envs/sea/lib/python3.10/site-packages/tqdm/auto.py:21: TqdmWarning: IProgress not found. Please update jupyter and ipywidgets. See https://ipywidgets.readthedocs.io/en/stable/user_install.html\n",
      "  from .autonotebook import tqdm as notebook_tqdm\n"
     ]
    },
    {
     "name": "stdout",
     "output_type": "stream",
     "text": [
      "=== SEA 모델 추론 결과 요약 ===\n",
      "총 데이터셋 수: 18\n",
      "총 샘플 수: 35\n",
      "평균 AUC: 0.9020 ± 0.0919\n",
      "평균 AUPRC: 0.6833 ± 0.2494\n",
      "평균 추론 시간: 1.1073초 ± 0.3119초\n",
      "총 추론 시간: 38.76초\n"
     ]
    }
   ],
   "source": [
    "import pickle\n",
    "import numpy as np\n",
    "\n",
    "results = pickle.load(open('results_fci_sergio_reproduce.pkl', 'rb'))\n",
    "all_auc = []\n",
    "all_prc = []\n",
    "all_time = [] \n",
    "\n",
    "for key, result in results.items(): \n",
    "    all_auc.extend(result['auc'])\n",
    "    all_prc.extend(result['prc'])\n",
    "    all_time.extend([t.item() if hasattr(t, 'item') else t for t in result['time']])\n",
    "\n",
    "print('=== SEA 모델 추론 결과 요약 ===')\n",
    "print(f'총 데이터셋 수: {len(results)}')\n",
    "print(f'총 샘플 수: {len(all_auc)}')\n",
    "print(f'평균 AUC: {np.mean(all_auc):.4f} ± {np.std(all_auc):.4f}')\n",
    "print(f'평균 AUPRC: {np.mean(all_prc):.4f} ± {np.std(all_prc):.4f}')\n",
    "print(f'평균 추론 시간: {np.mean(all_time):.4f}초 ± {np.std(all_time):.4f}초')\n",
    "print(f'총 추론 시간: {np.sum(all_time):.2f}초')"
   ]
  },
  {
   "cell_type": "code",
   "execution_count": null,
   "id": "5e4ace46",
   "metadata": {},
   "outputs": [],
   "source": []
  },
  {
   "cell_type": "code",
   "execution_count": null,
   "id": "e553201d",
   "metadata": {},
   "outputs": [],
   "source": []
  },
  {
   "cell_type": "code",
   "execution_count": null,
   "id": "fd0a358d",
   "metadata": {},
   "outputs": [],
   "source": []
  }
 ],
 "metadata": {
  "kernelspec": {
   "display_name": "sea",
   "language": "python",
   "name": "python3"
  },
  "language_info": {
   "codemirror_mode": {
    "name": "ipython",
    "version": 3
   },
   "file_extension": ".py",
   "mimetype": "text/x-python",
   "name": "python",
   "nbconvert_exporter": "python",
   "pygments_lexer": "ipython3",
   "version": "3.10.18"
  }
 },
 "nbformat": 4,
 "nbformat_minor": 5
}
